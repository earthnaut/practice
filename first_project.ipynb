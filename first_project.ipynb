{
 "cells": [
  {
   "cell_type": "markdown",
   "metadata": {},
   "source": [
    "Hello, This is my first project for git hub upload !\n",
    "Thank you for watching"
   ]
  },
  {
   "cell_type": "code",
   "execution_count": 10,
   "metadata": {},
   "outputs": [
    {
     "name": "stdout",
     "output_type": "stream",
     "text": [
      "ᕕ( ᐛ )ᕗ Happy!\n",
      "Fun! ٩( ᐛ )و\n",
      "ᕕ( ᐛ )ᕗ Happy!\n",
      "Fun! ٩( ᐛ )و\n",
      "ᕕ( ᐛ )ᕗ Happy!\n",
      "Fun! ٩( ᐛ )و\n",
      "ᕕ( ᐛ )ᕗ Happy!\n",
      "Fun! ٩( ᐛ )و\n",
      "ᕕ( ᐛ )ᕗ Happy!\n",
      "Fun! ٩( ᐛ )و\n"
     ]
    }
   ],
   "source": [
    "nya = \"ᕕ( ᐛ )ᕗ Happy!\"\n",
    "ha = \"Fun! ٩( ᐛ )و\"\n",
    "\n",
    "for i in range(10):\n",
    "    if i % 2 == 0:\n",
    "        print(nya)\n",
    "    else:\n",
    "        print(ha)"
   ]
  },
  {
   "cell_type": "code",
   "execution_count": 8,
   "metadata": {},
   "outputs": [
    {
     "name": "stdout",
     "output_type": "stream",
     "text": [
      "There's word in Fireish. Deshlock. It means embrace the light when it burnsbecause it won't always last forever.\n"
     ]
    }
   ],
   "source": [
    "string = \"There's word in Fireish. \"\\\n",
    "         \"Deshlock. \"\\\n",
    "         \"It means embrace the light when it burns\"\\\n",
    "         \"because it won't always last forever.\"\n",
    "\n",
    "print(string)"
   ]
  },
  {
   "cell_type": "code",
   "execution_count": null,
   "metadata": {},
   "outputs": [],
   "source": []
  }
 ],
 "metadata": {
  "kernelspec": {
   "display_name": "base",
   "language": "python",
   "name": "python3"
  },
  "language_info": {
   "codemirror_mode": {
    "name": "ipython",
    "version": 3
   },
   "file_extension": ".py",
   "mimetype": "text/x-python",
   "name": "python",
   "nbconvert_exporter": "python",
   "pygments_lexer": "ipython3",
   "version": "3.11.4"
  },
  "orig_nbformat": 4
 },
 "nbformat": 4,
 "nbformat_minor": 2
}
