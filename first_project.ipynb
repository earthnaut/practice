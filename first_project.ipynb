{
 "cells": [
  {
   "cell_type": "markdown",
   "metadata": {},
   "source": [
    "Hello, This is my first project for git hub upload !\n",
    "Thank you for watching"
   ]
  },
  {
   "cell_type": "code",
   "execution_count": 13,
   "metadata": {},
   "outputs": [
    {
     "name": "stdout",
     "output_type": "stream",
     "text": [
      "ᕕ( ᐛ )ᕗ Happy!\n",
      "Fun! ٩( ᐛ )و\n",
      "ᕕ( ᐛ )ᕗ Happy!\n",
      "Fun! ٩( ᐛ )و\n",
      "ᕕ( ᐛ )ᕗ Happy!\n",
      "Fun! ٩( ᐛ )و\n",
      "ᕕ( ᐛ )ᕗ Happy!\n",
      "Fun! ٩( ᐛ )و\n",
      "ᕕ( ᐛ )ᕗ Happy!\n",
      "Fun! ٩( ᐛ )و\n"
     ]
    }
   ],
   "source": [
    "nya = \"ᕕ( ᐛ )ᕗ Happy!\"\n",
    "ha = \"Fun! ٩( ᐛ )و\"\n",
    "\n",
    "for i in range(10):\n",
    "    if i % 2 == 0:\n",
    "        print(nya)\n",
    "    else:\n",
    "        print(ha)"
   ]
  },
  {
   "cell_type": "code",
   "execution_count": 15,
   "metadata": {},
   "outputs": [
    {
     "name": "stdout",
     "output_type": "stream",
     "text": [
      "My favorite lines in movie <Elemental>:\n",
      "There's word in Fireish. Deshlock. It means embrace the light when it burns because it won't always last forever.\n",
      "\n",
      "Your favorite lines in movie <Interstellar>:\n",
      "Murphy's law doesn't mean that something bad will happen. It means that whatever can happen, will happen.\n"
     ]
    }
   ],
   "source": [
    "movie = 'Elemental'\n",
    "lines = \"There's word in Fireish. \"\\\n",
    "         \"Deshlock. \"\\\n",
    "         \"It means embrace the light when it burns \"\\\n",
    "         \"because it won't always last forever.\"\n",
    "\n",
    "print(f'My favorite lines in movie <{movie}>:\\n{lines}\\n')\n",
    "\n",
    "\n",
    "\n",
    "movie_u = input('What is your impressive movie?:\\n')\n",
    "lines_u = input('What is your favorite lines?:\\n')\n",
    "\n",
    "print(f'Your favorite lines in movie <{movie_u}>:\\n{lines_u}')"
   ]
  }
 ],
 "metadata": {
  "kernelspec": {
   "display_name": "base",
   "language": "python",
   "name": "python3"
  },
  "language_info": {
   "codemirror_mode": {
    "name": "ipython",
    "version": 3
   },
   "file_extension": ".py",
   "mimetype": "text/x-python",
   "name": "python",
   "nbconvert_exporter": "python",
   "pygments_lexer": "ipython3",
   "version": "3.11.4"
  },
  "orig_nbformat": 4
 },
 "nbformat": 4,
 "nbformat_minor": 2
}
