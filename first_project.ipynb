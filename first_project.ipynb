{
 "cells": [
  {
   "cell_type": "markdown",
   "metadata": {},
   "source": [
    "Hello, This is my first project for git hub upload !\n",
    "Thank you for watching"
   ]
  },
  {
   "cell_type": "code",
   "execution_count": 13,
   "metadata": {},
   "outputs": [
    {
     "name": "stdout",
     "output_type": "stream",
     "text": [
      "ᕕ( ᐛ )ᕗ Happy!\n",
      "Fun! ٩( ᐛ )و\n",
      "ᕕ( ᐛ )ᕗ Happy!\n",
      "Fun! ٩( ᐛ )و\n",
      "ᕕ( ᐛ )ᕗ Happy!\n",
      "Fun! ٩( ᐛ )و\n",
      "ᕕ( ᐛ )ᕗ Happy!\n",
      "Fun! ٩( ᐛ )و\n",
      "ᕕ( ᐛ )ᕗ Happy!\n",
      "Fun! ٩( ᐛ )و\n"
     ]
    }
   ],
   "source": [
    "nya = \"ᕕ( ᐛ )ᕗ Happy!\"\n",
    "ha = \"Fun! ٩( ᐛ )و\"\n",
    "\n",
    "for i in range(10):\n",
    "    if i % 2 == 0:\n",
    "        print(nya)\n",
    "    else:\n",
    "        print(ha)"
   ]
  },
  {
   "cell_type": "code",
   "execution_count": 15,
   "metadata": {},
   "outputs": [
    {
     "name": "stdout",
     "output_type": "stream",
     "text": [
      "My favorite lines in movie <Elemental>:\n",
      "There's word in Fireish. Deshlock. It means embrace the light when it burns because it won't always last forever.\n",
      "\n",
      "Your favorite lines in movie <Interstellar>:\n",
      "Murphy's law doesn't mean that something bad will happen. It means that whatever can happen, will happen.\n"
     ]
    }
   ],
   "source": [
    "movie = 'Elemental'\n",
    "lines = \"There's word in Fireish. \"\\\n",
    "         \"Deshlock. \"\\\n",
    "         \"It means embrace the light when it burns \"\\\n",
    "         \"because it won't always last forever.\"\n",
    "\n",
    "print(f'My favorite lines in movie <{movie}>:\\n{lines}\\n')\n",
    "\n",
    "\n",
    "\n",
    "movie_u = input('What is your impressive movie?:\\n')\n",
    "lines_u = input('What is your favorite lines?:\\n')\n",
    "\n",
    "print(f'Your favorite lines in movie <{movie_u}>:\\n{lines_u}')"
   ]
  },
  {
   "cell_type": "markdown",
   "metadata": {},
   "source": [
<<<<<<< HEAD
    "Collaboration Practice - freshman"
   ]
  },
  {
   "cell_type": "markdown",
   "metadata": {},
   "source": [
    "Collaboration Practice - senior"
=======
    "Collaboration Practice - fresh man"
>>>>>>> f59e74288adb4a5b53dde8735a9a9dce9bdc8f18
   ]
  },
  {
   "cell_type": "code",
   "execution_count": 1,
   "metadata": {},
   "outputs": [],
   "source": [
<<<<<<< HEAD
    "import pandas as pd\n",
    "\n",
    "df = pd.DataFrame({'group': ['Newjeans', 'IVE', 'easpa', 'LE SSERAFIM', 'BLACKPINK', '(G)I-DLE', 'ITZY'],\n",
    "                   'company' : ['ADOR', 'Starship', 'SM', 'SOURCE MUSIC', 'YG', 'CUBE', 'JYP']\n",
    "                   })"
=======
    "import pandas as pd"
>>>>>>> f59e74288adb4a5b53dde8735a9a9dce9bdc8f18
   ]
  },
  {
   "cell_type": "code",
<<<<<<< HEAD
   "execution_count": 2,
=======
   "execution_count": 3,
   "metadata": {},
   "outputs": [],
   "source": [
    "df = pd.DataFrame({'name': ['Minji', 'Hanni', 'Danielle', 'Haerin', 'Hyein'],\n",
    "                   'age': [19, 18, 18, 17, 15],\n",
    "                   'Born': ['Korea', 'Australia', 'Australia', 'Korea', 'Korea']})"
   ]
  },
  {
   "cell_type": "code",
   "execution_count": 4,
>>>>>>> f59e74288adb4a5b53dde8735a9a9dce9bdc8f18
   "metadata": {},
   "outputs": [
    {
     "name": "stdout",
     "output_type": "stream",
     "text": [
<<<<<<< HEAD
      "         group       company\n",
      "0     Newjeans          ADOR\n",
      "1          IVE      Starship\n",
      "2        easpa            SM\n",
      "3  LE SSERAFIM  SOURCE MUSIC\n",
      "4    BLACKPINK            YG\n",
      "5     (G)I-DLE          CUBE\n",
      "6         ITZY           JYP\n"
=======
      "       name  age       Born\n",
      "2  Danielle   18  Australia\n",
      "3    Haerin   17      Korea\n",
      "1     Hanni   18  Australia\n",
      "4     Hyein   15      Korea\n",
      "0     Minji   19      Korea\n"
>>>>>>> f59e74288adb4a5b53dde8735a9a9dce9bdc8f18
     ]
    }
   ],
   "source": [
<<<<<<< HEAD
    "print(df)"
=======
    "print(df.sort_values('name'))"
>>>>>>> f59e74288adb4a5b53dde8735a9a9dce9bdc8f18
   ]
  }
 ],
 "metadata": {
  "kernelspec": {
   "display_name": "base",
   "language": "python",
   "name": "python3"
  },
  "language_info": {
   "codemirror_mode": {
    "name": "ipython",
    "version": 3
   },
   "file_extension": ".py",
   "mimetype": "text/x-python",
   "name": "python",
   "nbconvert_exporter": "python",
   "pygments_lexer": "ipython3",
   "version": "3.11.4"
  },
  "orig_nbformat": 4
 },
 "nbformat": 4,
 "nbformat_minor": 2
}
